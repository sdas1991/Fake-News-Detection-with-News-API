{
 "cells": [
  {
   "cell_type": "code",
   "execution_count": 23,
   "metadata": {},
   "outputs": [],
   "source": [
    "import urllib\n",
    "import json\n",
    "import urllib.request\n",
    "import csv\n",
    "import requests\n",
    "\n",
    "\n",
    "\n",
    "apiKey='9a34e19382414f2cb37468dace88bbf6'\n",
    "query='%22Donald%20trump%22'\n",
    "#url=\"https://newsapi.org/v2/everything?q=%22Donald%20trump%22&apiKey=\"+apiKey\n",
    "url=\"https://newsapi.org/v2/everything?q=\"+query+\"&apiKey=\"+apiKey\n",
    "with urllib.request.urlopen(url) as url:\n",
    "\tdata = json.loads(url.read().decode()) #one more indent after pasting into anaconda prompt"
   ]
  },
  {
   "cell_type": "code",
   "execution_count": null,
   "metadata": {},
   "outputs": [],
   "source": []
  },
  {
   "cell_type": "code",
   "execution_count": 24,
   "metadata": {},
   "outputs": [
    {
     "name": "stdout",
     "output_type": "stream",
     "text": [
      "http://www.independent.co.uk/news/trump-military-parade-plan-latest-us-navy-seal-osama-bin-laden-killer-robert-oneill-opinion-a8202376.html\n",
      "https://www.mmo-champion.com/threads/2375939-Donald-Trump?p=48859877#post48859877\n",
      "https://shiga95.deviantart.com/art/Donald-Trump-740695424\n",
      "http://www.politifact.com/truth-o-meter/statements/2018/jan/31/donald-trump/donald-trump-inflates-apple-investment/\n",
      "https://yousefcia.deviantart.com/art/Donald-Trump-739434012\n",
      "https://impysart.deviantart.com/art/Donald-Trump-734841809\n",
      "https://www.liveleak.com/view?i=568_1518331297\n",
      "https://slashdot.org/submission/8067119/donald-trump\n",
      "http://www.chicagotribune.com/news/opinion/commentary/ct-perspec-trump-comey-book-0418-20180417-story.html\n",
      "http://www.voltairenet.org/article200714.html\n",
      "http://hu.euronews.com/2018/02/09/macskak-donald-trump-frizurajaval\n",
      "http://knowyourmeme.com/photos/1340155-donald-trump\n",
      "http://knowyourmeme.com/photos/1340153-donald-trump\n",
      "http://knowyourmeme.com/photos/1341976-donald-trump\n",
      "http://knowyourmeme.com/photos/1340089-donald-trump\n",
      "http://www.dailymail.co.uk/news/article-5353273/Donald-Trump-slams-NHS.html\n",
      "http://www.livemint.com/Companies/t0PK6QmAXkdokHAI3qyAaK/Being-Donald-Trump-Jr.html\n",
      "http://www.zeit.de/politik/ausland/2018-02/donald-trump-russland-affaere-robert-mueller\n",
      "https://www.nrk.no/nyheter/donald-trump-om-skolesikkerhet-1.13928519\n",
      "http://www.abovetopsecret.com/forum/thread1200591/pg1\n"
     ]
    }
   ],
   "source": [
    "for x in data['articles']:\n",
    "    print(x['url'])"
   ]
  },
  {
   "cell_type": "code",
   "execution_count": 25,
   "metadata": {},
   "outputs": [],
   "source": [
    "import sys\n",
    "sys.path.append(r\"c://users/k_khan/anaconda3/lib/site-packages\")"
   ]
  },
  {
   "cell_type": "code",
   "execution_count": 26,
   "metadata": {},
   "outputs": [],
   "source": [
    "import newspaper"
   ]
  },
  {
   "cell_type": "code",
   "execution_count": 28,
   "metadata": {},
   "outputs": [
    {
     "ename": "ImportError",
     "evalue": "cannot import name 'fulltext'",
     "output_type": "error",
     "traceback": [
      "\u001b[1;31m---------------------------------------------------------------------------\u001b[0m",
      "\u001b[1;31mImportError\u001b[0m                               Traceback (most recent call last)",
      "\u001b[1;32m<ipython-input-28-d42cd966f13e>\u001b[0m in \u001b[0;36m<module>\u001b[1;34m()\u001b[0m\n\u001b[1;32m----> 1\u001b[1;33m \u001b[1;32mfrom\u001b[0m \u001b[0mnewspaper\u001b[0m \u001b[1;32mimport\u001b[0m \u001b[0mfulltext\u001b[0m\u001b[1;33m\u001b[0m\u001b[0m\n\u001b[0m",
      "\u001b[1;31mImportError\u001b[0m: cannot import name 'fulltext'"
     ]
    }
   ],
   "source": [
    "from newspaper import fulltext"
   ]
  }
 ],
 "metadata": {
  "kernelspec": {
   "display_name": "Python 3",
   "language": "python",
   "name": "python3"
  },
  "language_info": {
   "codemirror_mode": {
    "name": "ipython",
    "version": 3
   },
   "file_extension": ".py",
   "mimetype": "text/x-python",
   "name": "python",
   "nbconvert_exporter": "python",
   "pygments_lexer": "ipython3",
   "version": "3.6.4"
  }
 },
 "nbformat": 4,
 "nbformat_minor": 2
}
